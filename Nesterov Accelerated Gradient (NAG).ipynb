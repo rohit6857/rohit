{
 "cells": [
  {
   "cell_type": "code",
   "execution_count": 27,
   "id": "7f936469",
   "metadata": {},
   "outputs": [],
   "source": [
    "from sklearn.datasets import load_diabetes\n",
    "\n",
    "import numpy as np\n",
    "from sklearn.linear_model import LinearRegression\n",
    "from sklearn.metrics import r2_score\n",
    "from sklearn.model_selection import train_test_split"
   ]
  },
  {
   "cell_type": "code",
   "execution_count": 28,
   "id": "baf1f610",
   "metadata": {},
   "outputs": [],
   "source": [
    "X,y = load_diabetes(return_X_y=True)"
   ]
  },
  {
   "cell_type": "code",
   "execution_count": 29,
   "id": "f1cfcea4",
   "metadata": {},
   "outputs": [],
   "source": [
    "X_train, X_test, y_train, y_test = train_test_split(X, y, test_size=0.2, random_state=2)"
   ]
  },
  {
   "cell_type": "code",
   "execution_count": 30,
   "id": "398ab14b",
   "metadata": {},
   "outputs": [],
   "source": [
    "import random"
   ]
  },
  {
   "cell_type": "code",
   "execution_count": 43,
   "id": "665906c1",
   "metadata": {},
   "outputs": [],
   "source": [
    "class NAGRegressor:\n",
    "    \n",
    "    def __init__(self,learning_rate=0.01,epochs=100,gamma=0.9):\n",
    "        self.coef_ = None\n",
    "        self.intercept_=None\n",
    "        self.v_w = None\n",
    "        self.v_b = None\n",
    "        self.lr=learning_rate\n",
    "        self.epochs=epochs\n",
    "        self.gamma = gamma\n",
    "    \n",
    "    def grad_w(self,w,b,x,y):\n",
    "        y_hat = np.dot(x,b) + w\n",
    "        dw_w = -2 * (y - y_hat)\n",
    "        return dw_w\n",
    "        \n",
    "    def grad_b(self,w,b,x,y):\n",
    "        y_hat = np.dot(x,b) + w\n",
    "        dw_b = -2 * np.dot((y - y_hat),x)\n",
    "        return dw_b\n",
    "        \n",
    "    def fit(self,X_train,y_train):\n",
    "        #initialize starting point\n",
    "        self.intercept_ = 0\n",
    "        self.coef_ = np.ones(X_train.shape[1])\n",
    "        dw,db = 0,0\n",
    "        prev_v_w = 0\n",
    "        prev_v_b = 0\n",
    "        self.v_w = self.gamma*prev_v_w\n",
    "        self.v_b = self.gamma*prev_v_b\n",
    "        \n",
    "        \n",
    "        #Run loop to identify next point and then gradually reach to minima\n",
    "        \n",
    "        for i in range(self.epochs):\n",
    "            #Calculate inital value of a line, which is call forward pass\n",
    "            \n",
    "            for j in range(X_train.shape[0]):\n",
    "                idx = np.random.randint(0,X_train.shape[0])\n",
    "                #Calculate initial value of cost function\n",
    "                dw = self.grad_w(self.intercept_ - self.v_w, self.coef_ - self.v_b, X_train[idx],y_train[idx])\n",
    "                self.v_w = self.gamma*prev_v_w + self.lr * dw\n",
    "                self.intercept_ = self.intercept_ - self.v_w\n",
    "                prev_v_w = self.v_w\n",
    "                \n",
    "                db = self.grad_b(self.intercept_ - self.v_w, self.coef_ - self.v_b, X_train[idx],y_train[idx])\n",
    "                self.v_b = self.gamma*prev_v_b + self.lr * db\n",
    "                self.coef_ = self.coef_ - self.v_b\n",
    "                prev_v_b = self.v_b\n",
    "                \n",
    "        print(self.intercept_,self.coef_)\n",
    "    \n",
    "    def predict(self,X_test):\n",
    "        return np.dot(X_test, self.coef_) + self.intercept_"
   ]
  },
  {
   "cell_type": "code",
   "execution_count": 66,
   "id": "a2ecbeb5",
   "metadata": {},
   "outputs": [],
   "source": [
    "nag = NAGRegressor(learning_rate=0.01,epochs=100,gamma=0.9)"
   ]
  },
  {
   "cell_type": "code",
   "execution_count": 67,
   "id": "e63bd786",
   "metadata": {},
   "outputs": [
    {
     "name": "stdout",
     "output_type": "stream",
     "text": [
      "142.9349688830685 [ -26.36899707 -220.1413583   543.70456898  343.34544865 -125.15881026\n",
      "  -58.50116373 -187.55940023   54.47144832  570.51977195   42.21267066]\n"
     ]
    }
   ],
   "source": [
    "nag.fit(X_train,y_train)"
   ]
  },
  {
   "cell_type": "code",
   "execution_count": 68,
   "id": "05cd322b",
   "metadata": {},
   "outputs": [],
   "source": [
    "y_pred = nag.predict(X_test)"
   ]
  },
  {
   "cell_type": "code",
   "execution_count": 69,
   "id": "138eb2e2",
   "metadata": {},
   "outputs": [
    {
     "data": {
      "text/plain": [
       "0.42709984503217524"
      ]
     },
     "execution_count": 69,
     "metadata": {},
     "output_type": "execute_result"
    }
   ],
   "source": [
    "r2_score(y_test,y_pred)"
   ]
  },
  {
   "cell_type": "code",
   "execution_count": null,
   "id": "ef862ba5",
   "metadata": {},
   "outputs": [],
   "source": []
  }
 ],
 "metadata": {
  "kernelspec": {
   "display_name": "Python 3 (ipykernel)",
   "language": "python",
   "name": "python3"
  },
  "language_info": {
   "codemirror_mode": {
    "name": "ipython",
    "version": 3
   },
   "file_extension": ".py",
   "mimetype": "text/x-python",
   "name": "python",
   "nbconvert_exporter": "python",
   "pygments_lexer": "ipython3",
   "version": "3.9.7"
  }
 },
 "nbformat": 4,
 "nbformat_minor": 5
}
