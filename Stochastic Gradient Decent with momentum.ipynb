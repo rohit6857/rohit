{
 "cells": [
  {
   "cell_type": "code",
   "execution_count": 4,
   "id": "7f936469",
   "metadata": {},
   "outputs": [],
   "source": [
    "from sklearn.datasets import load_diabetes\n",
    "\n",
    "import numpy as np\n",
    "from sklearn.linear_model import LinearRegression\n",
    "from sklearn.metrics import r2_score\n",
    "from sklearn.model_selection import train_test_split"
   ]
  },
  {
   "cell_type": "code",
   "execution_count": 5,
   "id": "baf1f610",
   "metadata": {},
   "outputs": [],
   "source": [
    "X,y = load_diabetes(return_X_y=True)"
   ]
  },
  {
   "cell_type": "code",
   "execution_count": 6,
   "id": "f1cfcea4",
   "metadata": {},
   "outputs": [],
   "source": [
    "X_train, X_test, y_train, y_test = train_test_split(X, y, test_size=0.2, random_state=2)"
   ]
  },
  {
   "cell_type": "code",
   "execution_count": 7,
   "id": "398ab14b",
   "metadata": {},
   "outputs": [],
   "source": [
    "import random"
   ]
  },
  {
   "cell_type": "code",
   "execution_count": 34,
   "id": "665906c1",
   "metadata": {},
   "outputs": [],
   "source": [
    "class SGDRegressor_mom:\n",
    "    \n",
    "    def __init__(self,learning_rate=0.01,epochs=100,y=0.9):\n",
    "        self.coef_ = None\n",
    "        self.intercept_=None\n",
    "        self.v = None\n",
    "        self.v1 = None\n",
    "        self.lr=learning_rate\n",
    "        self.epochs=epochs\n",
    "        self.y = y\n",
    "        \n",
    "    def fit(self,X_train,y_train):\n",
    "        #initialize starting point\n",
    "        self.intercept_ = 0\n",
    "        self.coef_ = np.ones(X_train.shape[1])\n",
    "        self.v = 0\n",
    "        self.v1 = 0\n",
    "        \n",
    "        \n",
    "        #Run loop to identify next point and then gradually reach to minima\n",
    "        \n",
    "        for i in range(self.epochs):\n",
    "            #Calculate inital value of a line, which is call forward pass\n",
    "            \n",
    "            for j in range(X_train.shape[0]):\n",
    "                idx = np.random.randint(0,X_train.shape[0])\n",
    "                y_hat = np.dot(X_train[idx],self.coef_) + self.intercept_\n",
    "\n",
    "                #Backward Pass: Adjust model parameters by taking first derivative of objective function parameters\n",
    "                intercept_dr = -2 * (y_train[idx] - y_hat)\n",
    "                #self.intercept_ = self.intercept_ - (self.lr * intercept_dr)\n",
    "                self.v = self.y * self.v + (self.lr*intercept_dr)\n",
    "                self.intercept_ = self.intercept_ - self.v\n",
    "                \n",
    "                coef_dr = -2 * np.dot((y_train[idx] - y_hat),X_train[idx])\n",
    "                #self.coef_ = self.coef_ - (self.lr * coef_dr)\n",
    "                self.v1 = self.y * self.v1 + (self.lr*coef_dr)\n",
    "                self.coef_ = self.coef_ - self.v1\n",
    "                \n",
    "        print(self.intercept_,self.coef_)\n",
    "    \n",
    "    def predict(self,X_test):\n",
    "        return np.dot(X_test, self.coef_) + self.intercept_"
   ]
  },
  {
   "cell_type": "code",
   "execution_count": 117,
   "id": "a2ecbeb5",
   "metadata": {},
   "outputs": [],
   "source": [
    "sgd_m = SGDRegressor_mom(learning_rate=0.01,epochs=100,y=0.6)"
   ]
  },
  {
   "cell_type": "code",
   "execution_count": 118,
   "id": "e63bd786",
   "metadata": {},
   "outputs": [
    {
     "name": "stdout",
     "output_type": "stream",
     "text": [
      "153.2942858292773 [ 2.05279780e-01 -2.03200303e+02  5.23127300e+02  3.34440267e+02\n",
      " -5.23288452e+01 -1.23825356e+02 -1.89087658e+02  9.43568674e+01\n",
      "  4.93637420e+02  5.49122049e+01]\n"
     ]
    }
   ],
   "source": [
    "sgd_m.fit(X_train,y_train)"
   ]
  },
  {
   "cell_type": "code",
   "execution_count": 119,
   "id": "05cd322b",
   "metadata": {},
   "outputs": [],
   "source": [
    "y_pred = sgd_m.predict(X_test)"
   ]
  },
  {
   "cell_type": "code",
   "execution_count": 120,
   "id": "138eb2e2",
   "metadata": {},
   "outputs": [
    {
     "data": {
      "text/plain": [
       "0.4511231081268031"
      ]
     },
     "execution_count": 120,
     "metadata": {},
     "output_type": "execute_result"
    }
   ],
   "source": [
    "r2_score(y_test,y_pred)"
   ]
  },
  {
   "cell_type": "code",
   "execution_count": null,
   "id": "ef862ba5",
   "metadata": {},
   "outputs": [],
   "source": []
  }
 ],
 "metadata": {
  "kernelspec": {
   "display_name": "Python 3 (ipykernel)",
   "language": "python",
   "name": "python3"
  },
  "language_info": {
   "codemirror_mode": {
    "name": "ipython",
    "version": 3
   },
   "file_extension": ".py",
   "mimetype": "text/x-python",
   "name": "python",
   "nbconvert_exporter": "python",
   "pygments_lexer": "ipython3",
   "version": "3.9.7"
  }
 },
 "nbformat": 4,
 "nbformat_minor": 5
}
